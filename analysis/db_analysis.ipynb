{
 "cells": [
  {
   "cell_type": "code",
   "execution_count": 2,
   "metadata": {},
   "outputs": [],
   "source": [
    "import pandas as pd\n",
    "import sqlite3"
   ]
  },
  {
   "cell_type": "markdown",
   "metadata": {},
   "source": [
    "# requirements.txt\n",
    "pip install jupyter matplotlib numpy pandas"
   ]
  },
  {
   "cell_type": "code",
   "execution_count": null,
   "metadata": {},
   "outputs": [],
   "source": [
    "connection = sqlite3.connect('../data.db')\n",
    "cursor = connection.cursor()\n",
    "cursor.execute(\"SELECT * FROM house_info where last_update_date = '2024-01-01'\")\n",
    "df = pd.DataFrame(cursor.fetchall())\n",
    "df.columns = [x[0] for x in cursor.description]\n",
    "df[\"total_price\"] = pd.to_numeric(df[\"total_price\"])\n",
    "df[\"unit_price\"] = pd.to_numeric(df[\"unit_price\"])\n",
    "connection.close()\n",
    "df.head()\n"
   ]
  },
  {
   "cell_type": "code",
   "execution_count": 9,
   "metadata": {},
   "outputs": [
    {
     "data": {
      "text/html": [
       "<div>\n",
       "<style scoped>\n",
       "    .dataframe tbody tr th:only-of-type {\n",
       "        vertical-align: middle;\n",
       "    }\n",
       "\n",
       "    .dataframe tbody tr th {\n",
       "        vertical-align: top;\n",
       "    }\n",
       "\n",
       "    .dataframe thead th {\n",
       "        text-align: right;\n",
       "    }\n",
       "</style>\n",
       "<table border=\"1\" class=\"dataframe\">\n",
       "  <thead>\n",
       "    <tr style=\"text-align: right;\">\n",
       "      <th></th>\n",
       "      <th>id</th>\n",
       "      <th>house_id</th>\n",
       "      <th>original_total_price</th>\n",
       "      <th>original_unit_price</th>\n",
       "      <th>new_total_price</th>\n",
       "      <th>new_unit_price</th>\n",
       "      <th>change_type</th>\n",
       "      <th>changed_total_amount</th>\n",
       "      <th>changed_unit_amount</th>\n",
       "      <th>job_time</th>\n",
       "      <th>house_area</th>\n",
       "    </tr>\n",
       "  </thead>\n",
       "  <tbody>\n",
       "    <tr>\n",
       "      <th>0</th>\n",
       "      <td>31016</td>\n",
       "      <td>107109002402</td>\n",
       "      <td>260</td>\n",
       "      <td>28255</td>\n",
       "      <td>240.0</td>\n",
       "      <td>26082</td>\n",
       "      <td>down</td>\n",
       "      <td>-20.0</td>\n",
       "      <td>-2173</td>\n",
       "      <td>2024-02-26</td>\n",
       "      <td>92.02</td>\n",
       "    </tr>\n",
       "    <tr>\n",
       "      <th>1</th>\n",
       "      <td>31017</td>\n",
       "      <td>107109000732</td>\n",
       "      <td>230</td>\n",
       "      <td>25401</td>\n",
       "      <td>210.0</td>\n",
       "      <td>23192</td>\n",
       "      <td>down</td>\n",
       "      <td>-20.0</td>\n",
       "      <td>-2209</td>\n",
       "      <td>2024-02-26</td>\n",
       "      <td>90.55</td>\n",
       "    </tr>\n",
       "    <tr>\n",
       "      <th>2</th>\n",
       "      <td>31018</td>\n",
       "      <td>107108742887</td>\n",
       "      <td>200</td>\n",
       "      <td>22425</td>\n",
       "      <td>195.0</td>\n",
       "      <td>21864</td>\n",
       "      <td>down</td>\n",
       "      <td>-5.0</td>\n",
       "      <td>-561</td>\n",
       "      <td>2024-02-26</td>\n",
       "      <td>89.19</td>\n",
       "    </tr>\n",
       "    <tr>\n",
       "      <th>3</th>\n",
       "      <td>31019</td>\n",
       "      <td>107108461869</td>\n",
       "      <td>205</td>\n",
       "      <td>22730</td>\n",
       "      <td>200.0</td>\n",
       "      <td>22176</td>\n",
       "      <td>down</td>\n",
       "      <td>-5.0</td>\n",
       "      <td>-554</td>\n",
       "      <td>2024-02-26</td>\n",
       "      <td>90.19</td>\n",
       "    </tr>\n",
       "    <tr>\n",
       "      <th>4</th>\n",
       "      <td>31020</td>\n",
       "      <td>107108196605</td>\n",
       "      <td>188</td>\n",
       "      <td>16830</td>\n",
       "      <td>180.0</td>\n",
       "      <td>16114</td>\n",
       "      <td>down</td>\n",
       "      <td>-8.0</td>\n",
       "      <td>-716</td>\n",
       "      <td>2024-02-26</td>\n",
       "      <td>111.71</td>\n",
       "    </tr>\n",
       "  </tbody>\n",
       "</table>\n",
       "</div>"
      ],
      "text/plain": [
       "      id      house_id original_total_price original_unit_price  \\\n",
       "0  31016  107109002402                  260               28255   \n",
       "1  31017  107109000732                  230               25401   \n",
       "2  31018  107108742887                  200               22425   \n",
       "3  31019  107108461869                  205               22730   \n",
       "4  31020  107108196605                  188               16830   \n",
       "\n",
       "   new_total_price  new_unit_price change_type  changed_total_amount  \\\n",
       "0            240.0           26082        down                 -20.0   \n",
       "1            210.0           23192        down                 -20.0   \n",
       "2            195.0           21864        down                  -5.0   \n",
       "3            200.0           22176        down                  -5.0   \n",
       "4            180.0           16114        down                  -8.0   \n",
       "\n",
       "  changed_unit_amount    job_time house_area  \n",
       "0               -2173  2024-02-26      92.02  \n",
       "1               -2209  2024-02-26      90.55  \n",
       "2                -561  2024-02-26      89.19  \n",
       "3                -554  2024-02-26      90.19  \n",
       "4                -716  2024-02-26     111.71  "
      ]
     },
     "execution_count": 9,
     "metadata": {},
     "output_type": "execute_result"
    }
   ],
   "source": [
    "connection1 = sqlite3.connect('../data.db')\n",
    "cursor1 = connection1.cursor()\n",
    "cursor1.execute(\"SELECT * FROM house_price_change_history where job_time = '2024-02-26' and changed_total_amount!='0'\")\n",
    "df1 = pd.DataFrame(cursor1.fetchall())\n",
    "df1.columns = [x[0] for x in cursor1.description]\n",
    "df1[\"new_total_price\"] = pd.to_numeric(df1[\"new_total_price\"])\n",
    "df1[\"new_unit_price\"] = pd.to_numeric(df1[\"new_unit_price\"])\n",
    "df1[\"changed_total_amount\"] = pd.to_numeric(df1[\"changed_total_amount\"])\n",
    "connection1.close()\n",
    "df1.head()"
   ]
  },
  {
   "cell_type": "code",
   "execution_count": null,
   "metadata": {},
   "outputs": [],
   "source": [
    "print(df.isna().any())\n",
    "print('---')\n",
    "print(df.duplicated().any())"
   ]
  },
  {
   "cell_type": "code",
   "execution_count": null,
   "metadata": {},
   "outputs": [],
   "source": [
    "#df.dtypes\n",
    "df.groupby('sub_district').agg({'unit_price': 'mean'}).sort_values(by='unit_price', ascending=False)"
   ]
  },
  {
   "cell_type": "code",
   "execution_count": null,
   "metadata": {},
   "outputs": [],
   "source": [
    "#pd.cut(df['total_price'][df['total_price']<2500], 10).value_counts()\n",
    "pd.cut(df['total_price'][(df['total_price']<2500)& (df['total_price']>1000)], 10).value_counts()"
   ]
  },
  {
   "cell_type": "code",
   "execution_count": null,
   "metadata": {},
   "outputs": [],
   "source": [
    "newdf = df[(df['total_price']<1250)& (df['total_price']>1000)]\n",
    "newdf.groupby('district').agg({'house_id': 'count'})"
   ]
  },
  {
   "cell_type": "code",
   "execution_count": 10,
   "metadata": {},
   "outputs": [
    {
     "data": {
      "text/plain": [
       "changed_total_amount\n",
       "(-256.0, 22.0]         10582\n",
       "(22.0, 300.0]            137\n",
       "(-534.0, -256.0]          39\n",
       "(-812.0, -534.0]           4\n",
       "(-2482.78, -2202.0]        1\n",
       "(-2202.0, -1924.0]         0\n",
       "(-1924.0, -1646.0]         0\n",
       "(-1646.0, -1368.0]         0\n",
       "(-1368.0, -1090.0]         0\n",
       "(-1090.0, -812.0]          0\n",
       "Name: count, dtype: int64"
      ]
     },
     "execution_count": 10,
     "metadata": {},
     "output_type": "execute_result"
    }
   ],
   "source": [
    "pd.cut(df1['changed_total_amount'], 10).value_counts()"
   ]
  }
 ],
 "metadata": {
  "kernelspec": {
   "display_name": "scrapy-test",
   "language": "python",
   "name": "python3"
  },
  "language_info": {
   "codemirror_mode": {
    "name": "ipython",
    "version": 3
   },
   "file_extension": ".py",
   "mimetype": "text/x-python",
   "name": "python",
   "nbconvert_exporter": "python",
   "pygments_lexer": "ipython3",
   "version": "3.10.5"
  }
 },
 "nbformat": 4,
 "nbformat_minor": 2
}
